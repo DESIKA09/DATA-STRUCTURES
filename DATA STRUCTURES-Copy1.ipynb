{
 "cells": [
  {
   "cell_type": "markdown",
   "id": "0de4594f",
   "metadata": {},
   "source": [
    "# DATA STRUCTURES\n",
    "\n",
    "## LIST, SET, TUPLE, DICTIONARY"
   ]
  },
  {
   "cell_type": "markdown",
   "id": "737cad1a",
   "metadata": {},
   "source": [
    "**LIST**"
   ]
  },
  {
   "cell_type": "markdown",
   "id": "ea10b8d7",
   "metadata": {},
   "source": [
    "A list is collection of elements which are ordered and indexed\n",
    "\n",
    "We use squared brackets[] for list\n",
    "\n",
    "it is mutable\n"
   ]
  },
  {
   "cell_type": "code",
   "execution_count": 114,
   "id": "2e07100c",
   "metadata": {},
   "outputs": [
    {
     "name": "stdout",
     "output_type": "stream",
     "text": [
      "[1, 2, 3, 4, 5, 'desika', 'ball', 3.14, False]\n"
     ]
    }
   ],
   "source": [
    "list_1=[1,2,3,4,5,\"desika\",\"ball\",3.14, False]\n",
    "print(list_1)"
   ]
  },
  {
   "cell_type": "markdown",
   "id": "50cf8647",
   "metadata": {},
   "source": [
    "#indexing the elements in a list(In python the indexing start from 0)\n",
    "\n",
    "\n",
    "\n",
    "-9 -8  -7   -6   -5   -4     -3     -2     -1   # right indexing\n",
    "\n",
    "\n",
    "#If we want to extract the element \"desika\", the following code can be used\n"
   ]
  },
  {
   "cell_type": "code",
   "execution_count": 29,
   "id": "777e3dd7",
   "metadata": {},
   "outputs": [
    {
     "name": "stdout",
     "output_type": "stream",
     "text": [
      "2\n",
      "5\n"
     ]
    }
   ],
   "source": [
    "#0   1   2    3   4   5        6     7      8   (left indexing) \n",
    "\n",
    "#1   2   3    4   5  desika  ball  3.14  False\n",
    "\n",
    "print(list_1[1]) #left indexing\n",
    "print(list_1[4])"
   ]
  },
  {
   "cell_type": "code",
   "execution_count": 30,
   "id": "daae1ffc",
   "metadata": {},
   "outputs": [
    {
     "name": "stdout",
     "output_type": "stream",
     "text": [
      "False\n",
      "desika\n"
     ]
    }
   ],
   "source": [
    "#1   2   3    4   5  desika  ball   3.14   False   \n",
    "#-9 -8  -7   -6   -5   -4     -3     -2     -1   # right indexing\n",
    "print(list_1[-1]) \n",
    "print(list_1[-4])"
   ]
  },
  {
   "cell_type": "markdown",
   "id": "20d8232a",
   "metadata": {},
   "source": [
    "**EXTRACTING A RANGE OF ELEMENTS**\n",
    "\n",
    "syntax\n",
    "\n",
    "name_of_the_list[starting position:ending position]\n",
    "\n",
    "Here, the element in the ending position is not included"
   ]
  },
  {
   "cell_type": "code",
   "execution_count": 115,
   "id": "a3dc4429",
   "metadata": {},
   "outputs": [
    {
     "data": {
      "text/plain": [
       "['desika', 'ball', 3.14]"
      ]
     },
     "execution_count": 115,
     "metadata": {},
     "output_type": "execute_result"
    }
   ],
   "source": [
    "list_1[5:8]"
   ]
  },
  {
   "cell_type": "markdown",
   "id": "44f5d0c3",
   "metadata": {},
   "source": [
    "To know all the functions or attributes that can be performed using the given objects, we use directory i.e., dir()"
   ]
  },
  {
   "cell_type": "code",
   "execution_count": 31,
   "id": "4fe5b925",
   "metadata": {},
   "outputs": [
    {
     "data": {
      "text/plain": [
       "['__add__',\n",
       " '__class__',\n",
       " '__class_getitem__',\n",
       " '__contains__',\n",
       " '__delattr__',\n",
       " '__delitem__',\n",
       " '__dir__',\n",
       " '__doc__',\n",
       " '__eq__',\n",
       " '__format__',\n",
       " '__ge__',\n",
       " '__getattribute__',\n",
       " '__getitem__',\n",
       " '__gt__',\n",
       " '__hash__',\n",
       " '__iadd__',\n",
       " '__imul__',\n",
       " '__init__',\n",
       " '__init_subclass__',\n",
       " '__iter__',\n",
       " '__le__',\n",
       " '__len__',\n",
       " '__lt__',\n",
       " '__mul__',\n",
       " '__ne__',\n",
       " '__new__',\n",
       " '__reduce__',\n",
       " '__reduce_ex__',\n",
       " '__repr__',\n",
       " '__reversed__',\n",
       " '__rmul__',\n",
       " '__setattr__',\n",
       " '__setitem__',\n",
       " '__sizeof__',\n",
       " '__str__',\n",
       " '__subclasshook__',\n",
       " 'append',\n",
       " 'clear',\n",
       " 'copy',\n",
       " 'count',\n",
       " 'extend',\n",
       " 'index',\n",
       " 'insert',\n",
       " 'pop',\n",
       " 'remove',\n",
       " 'reverse',\n",
       " 'sort']"
      ]
     },
     "execution_count": 31,
     "metadata": {},
     "output_type": "execute_result"
    }
   ],
   "source": [
    "dir(list_1)"
   ]
  },
  {
   "cell_type": "markdown",
   "id": "c4fb1a3d",
   "metadata": {},
   "source": [
    "### Now let us perform some  of the attribute mentioned above for list."
   ]
  },
  {
   "cell_type": "markdown",
   "id": "8f9fb99c",
   "metadata": {},
   "source": [
    "**APPEND**\n",
    "\n",
    "*'append()'* is used to add elements into the existing list\n",
    "\n",
    "It add the elements in tha last position."
   ]
  },
  {
   "cell_type": "code",
   "execution_count": 32,
   "id": "a48abcb8",
   "metadata": {},
   "outputs": [],
   "source": [
    "list_1.append(\"sandhya\")\n"
   ]
  },
  {
   "cell_type": "code",
   "execution_count": 33,
   "id": "73be1fad",
   "metadata": {},
   "outputs": [
    {
     "data": {
      "text/plain": [
       "[1, 2, 3, 4, 5, 'desika', 'ball', 3.14, False, 'sandhya']"
      ]
     },
     "execution_count": 33,
     "metadata": {},
     "output_type": "execute_result"
    }
   ],
   "source": [
    "list_1 # The element sandhya added to the list_1 and it is assigned in the last position."
   ]
  },
  {
   "cell_type": "markdown",
   "id": "18a5afe4",
   "metadata": {},
   "source": [
    "But if we want to add an element win a specified position, we use insert()"
   ]
  },
  {
   "cell_type": "markdown",
   "id": "c9bc4a64",
   "metadata": {},
   "source": [
    "**INSERT**\n",
    "\n",
    "*'insert()'* is used to add elements into the existing list\n",
    "\n",
    "It add the elements in a **specified positions** where we want.\n",
    "\n",
    "*syntax*\n",
    "\n",
    "insert(p,e)\n",
    "\n",
    "p= position of the element\n",
    "\n",
    "e= element to be added"
   ]
  },
  {
   "cell_type": "code",
   "execution_count": 34,
   "id": "8d427331",
   "metadata": {},
   "outputs": [],
   "source": [
    "list_1.insert(3,\"HAPPY\") #inserting the element \"HAPPY\" in 3rd position"
   ]
  },
  {
   "cell_type": "code",
   "execution_count": 35,
   "id": "2c71216e",
   "metadata": {},
   "outputs": [
    {
     "data": {
      "text/plain": [
       "[1, 2, 3, 'HAPPY', 4, 5, 'desika', 'ball', 3.14, False, 'sandhya']"
      ]
     },
     "execution_count": 35,
     "metadata": {},
     "output_type": "execute_result"
    }
   ],
   "source": [
    "list_1"
   ]
  },
  {
   "cell_type": "markdown",
   "id": "0f8b6050",
   "metadata": {},
   "source": [
    "**EXTEND**\n",
    "\n",
    "*'extend()'* is used to add the elements of the list at the end of the current list\n"
   ]
  },
  {
   "cell_type": "code",
   "execution_count": 36,
   "id": "33094bd8",
   "metadata": {},
   "outputs": [
    {
     "data": {
      "text/plain": [
       "['apple', 'banana']"
      ]
     },
     "execution_count": 36,
     "metadata": {},
     "output_type": "execute_result"
    }
   ],
   "source": [
    "list_2=['apple','banana']\n",
    "list_2"
   ]
  },
  {
   "cell_type": "code",
   "execution_count": 37,
   "id": "22888794",
   "metadata": {},
   "outputs": [],
   "source": [
    "list_1.extend(list_2) #To add the list_2 to the current list as iterables i.e., unpacking the list_2 and adding the elements of list_ with list_1"
   ]
  },
  {
   "cell_type": "code",
   "execution_count": 38,
   "id": "e69dc2cb",
   "metadata": {},
   "outputs": [
    {
     "data": {
      "text/plain": [
       "[1,\n",
       " 2,\n",
       " 3,\n",
       " 'HAPPY',\n",
       " 4,\n",
       " 5,\n",
       " 'desika',\n",
       " 'ball',\n",
       " 3.14,\n",
       " False,\n",
       " 'sandhya',\n",
       " 'apple',\n",
       " 'banana']"
      ]
     },
     "execution_count": 38,
     "metadata": {},
     "output_type": "execute_result"
    }
   ],
   "source": [
    "list_1"
   ]
  },
  {
   "cell_type": "markdown",
   "id": "cc49694b",
   "metadata": {},
   "source": [
    "**Difference between append and extend**\n",
    "\n",
    "append is used to add the elements to the list. so, if we give a list to be added, it take it as a single element\n",
    "whereas extend add the each of the elements of the list as separate elements."
   ]
  },
  {
   "cell_type": "code",
   "execution_count": 39,
   "id": "2b1d3a37",
   "metadata": {},
   "outputs": [
    {
     "data": {
      "text/plain": [
       "[1,\n",
       " 2,\n",
       " 3,\n",
       " 'HAPPY',\n",
       " 4,\n",
       " 5,\n",
       " 'desika',\n",
       " 'ball',\n",
       " 3.14,\n",
       " False,\n",
       " 'sandhya',\n",
       " 'apple',\n",
       " 'banana']"
      ]
     },
     "execution_count": 39,
     "metadata": {},
     "output_type": "execute_result"
    }
   ],
   "source": [
    "list_1"
   ]
  },
  {
   "cell_type": "code",
   "execution_count": 40,
   "id": "36de6740",
   "metadata": {},
   "outputs": [
    {
     "name": "stdout",
     "output_type": "stream",
     "text": [
      "[1, 2, 3, 'HAPPY', 4, 5, 'desika', 'ball', 3.14, False, 'sandhya', 'apple', 'banana', ['A', 'B']]\n"
     ]
    }
   ],
   "source": [
    "list_1.append([\"A\",\"B\"])\n",
    "print(list_1)"
   ]
  },
  {
   "cell_type": "code",
   "execution_count": 41,
   "id": "f2a18bcc",
   "metadata": {},
   "outputs": [
    {
     "data": {
      "text/plain": [
       "['A', 'B']"
      ]
     },
     "execution_count": 41,
     "metadata": {},
     "output_type": "execute_result"
    }
   ],
   "source": [
    "list_1[-1]"
   ]
  },
  {
   "cell_type": "code",
   "execution_count": 42,
   "id": "e04f21f9",
   "metadata": {},
   "outputs": [
    {
     "name": "stdout",
     "output_type": "stream",
     "text": [
      "[1, 2, 3, 'HAPPY', 4, 5, 'desika', 'ball', 3.14, False, 'sandhya', 'apple', 'banana', ['A', 'B'], True, False]\n"
     ]
    }
   ],
   "source": [
    "list_1.extend([True,False])\n",
    "print(list_1)"
   ]
  },
  {
   "cell_type": "code",
   "execution_count": 43,
   "id": "950814af",
   "metadata": {},
   "outputs": [
    {
     "data": {
      "text/plain": [
       "False"
      ]
     },
     "execution_count": 43,
     "metadata": {},
     "output_type": "execute_result"
    }
   ],
   "source": [
    "list_1[-1]"
   ]
  },
  {
   "cell_type": "markdown",
   "id": "f4e7d494",
   "metadata": {},
   "source": [
    "#### Removing of elements"
   ]
  },
  {
   "cell_type": "markdown",
   "id": "0d4db9c8",
   "metadata": {},
   "source": [
    "**REMOVE**\n",
    "\n",
    "It is used to remove the specified elements form the list."
   ]
  },
  {
   "cell_type": "code",
   "execution_count": 49,
   "id": "41993d11",
   "metadata": {},
   "outputs": [
    {
     "data": {
      "text/plain": [
       "[1,\n",
       " 2,\n",
       " 3,\n",
       " 'HAPPY',\n",
       " 4,\n",
       " 5,\n",
       " 'desika',\n",
       " 'ball',\n",
       " 3.14,\n",
       " False,\n",
       " 'apple',\n",
       " 'banana',\n",
       " ['A', 'B'],\n",
       " True,\n",
       " False]"
      ]
     },
     "execution_count": 49,
     "metadata": {},
     "output_type": "execute_result"
    }
   ],
   "source": [
    "list_1"
   ]
  },
  {
   "cell_type": "code",
   "execution_count": 50,
   "id": "9103fe14",
   "metadata": {},
   "outputs": [
    {
     "data": {
      "text/plain": [
       "[1,\n",
       " 2,\n",
       " 3,\n",
       " 'HAPPY',\n",
       " 4,\n",
       " 5,\n",
       " 'desika',\n",
       " 'ball',\n",
       " 3.14,\n",
       " False,\n",
       " 'apple',\n",
       " ['A', 'B'],\n",
       " True,\n",
       " False]"
      ]
     },
     "execution_count": 50,
     "metadata": {},
     "output_type": "execute_result"
    }
   ],
   "source": [
    "list_1.remove(\"banana\") #to remove the element 'banana'\n",
    "list_1"
   ]
  },
  {
   "cell_type": "markdown",
   "id": "d6a7906b",
   "metadata": {},
   "source": [
    "**pop**\n",
    "\n",
    "pop() is used to remove elements using the specified position."
   ]
  },
  {
   "cell_type": "code",
   "execution_count": 51,
   "id": "7de4ca99",
   "metadata": {},
   "outputs": [
    {
     "data": {
      "text/plain": [
       "[1,\n",
       " 2,\n",
       " 3,\n",
       " 'HAPPY',\n",
       " 4,\n",
       " 5,\n",
       " 'desika',\n",
       " 'ball',\n",
       " 3.14,\n",
       " False,\n",
       " 'apple',\n",
       " ['A', 'B'],\n",
       " True,\n",
       " False]"
      ]
     },
     "execution_count": 51,
     "metadata": {},
     "output_type": "execute_result"
    }
   ],
   "source": [
    "list_1"
   ]
  },
  {
   "cell_type": "code",
   "execution_count": 52,
   "id": "90bf9622",
   "metadata": {},
   "outputs": [
    {
     "data": {
      "text/plain": [
       "'HAPPY'"
      ]
     },
     "execution_count": 52,
     "metadata": {},
     "output_type": "execute_result"
    }
   ],
   "source": [
    "list_1.pop(3) #removing the element in third poistion"
   ]
  },
  {
   "cell_type": "code",
   "execution_count": 53,
   "id": "b0901e54",
   "metadata": {},
   "outputs": [
    {
     "data": {
      "text/plain": [
       "[1,\n",
       " 2,\n",
       " 3,\n",
       " 4,\n",
       " 5,\n",
       " 'desika',\n",
       " 'ball',\n",
       " 3.14,\n",
       " False,\n",
       " 'apple',\n",
       " ['A', 'B'],\n",
       " True,\n",
       " False]"
      ]
     },
     "execution_count": 53,
     "metadata": {},
     "output_type": "execute_result"
    }
   ],
   "source": [
    "list_1"
   ]
  },
  {
   "cell_type": "code",
   "execution_count": 56,
   "id": "a8b78838",
   "metadata": {},
   "outputs": [
    {
     "data": {
      "text/plain": [
       "['__add__',\n",
       " '__class__',\n",
       " '__class_getitem__',\n",
       " '__contains__',\n",
       " '__delattr__',\n",
       " '__delitem__',\n",
       " '__dir__',\n",
       " '__doc__',\n",
       " '__eq__',\n",
       " '__format__',\n",
       " '__ge__',\n",
       " '__getattribute__',\n",
       " '__getitem__',\n",
       " '__gt__',\n",
       " '__hash__',\n",
       " '__iadd__',\n",
       " '__imul__',\n",
       " '__init__',\n",
       " '__init_subclass__',\n",
       " '__iter__',\n",
       " '__le__',\n",
       " '__len__',\n",
       " '__lt__',\n",
       " '__mul__',\n",
       " '__ne__',\n",
       " '__new__',\n",
       " '__reduce__',\n",
       " '__reduce_ex__',\n",
       " '__repr__',\n",
       " '__reversed__',\n",
       " '__rmul__',\n",
       " '__setattr__',\n",
       " '__setitem__',\n",
       " '__sizeof__',\n",
       " '__str__',\n",
       " '__subclasshook__',\n",
       " 'append',\n",
       " 'clear',\n",
       " 'copy',\n",
       " 'count',\n",
       " 'extend',\n",
       " 'index',\n",
       " 'insert',\n",
       " 'pop',\n",
       " 'remove',\n",
       " 'reverse',\n",
       " 'sort']"
      ]
     },
     "execution_count": 56,
     "metadata": {},
     "output_type": "execute_result"
    }
   ],
   "source": [
    "dir(list_1)"
   ]
  },
  {
   "cell_type": "markdown",
   "id": "9e7c79bc",
   "metadata": {},
   "source": [
    "**SORT**\n",
    "\n",
    "*sort()* is used to sort the order of the elements in a specified manner\n",
    "\n",
    "syntax\n",
    "sort(key,reverse)\n",
    "\n",
    "\n",
    "key is a function which specifies the method of sorting or sorting manner\n",
    "\n",
    "reverse=True gives descending order\n",
    "\n",
    "reverse=False gives the ascending order. By default reverse=True\n"
   ]
  },
  {
   "cell_type": "code",
   "execution_count": 87,
   "id": "9297c7c0",
   "metadata": {},
   "outputs": [
    {
     "data": {
      "text/plain": [
       "[10, 9, 11, 1, 5, 0]"
      ]
     },
     "execution_count": 87,
     "metadata": {},
     "output_type": "execute_result"
    }
   ],
   "source": [
    "list3=[10,9,11,1,5,0]\n",
    "\n",
    "list3"
   ]
  },
  {
   "cell_type": "code",
   "execution_count": 93,
   "id": "60aef12f",
   "metadata": {},
   "outputs": [],
   "source": [
    "list3.sort()"
   ]
  },
  {
   "cell_type": "code",
   "execution_count": 92,
   "id": "66d23f04",
   "metadata": {},
   "outputs": [
    {
     "name": "stdout",
     "output_type": "stream",
     "text": [
      "Ascending order of the list3 is  [0, 1, 5, 9, 10, 11]\n"
     ]
    }
   ],
   "source": [
    "print(\"Ascending order of the list3 is \",  list3)"
   ]
  },
  {
   "cell_type": "code",
   "execution_count": 95,
   "id": "59645da9",
   "metadata": {},
   "outputs": [],
   "source": [
    "list4=[1,2,3,4,5,6]\n",
    "list4.sort(reverse=True)"
   ]
  },
  {
   "cell_type": "code",
   "execution_count": 96,
   "id": "af7b9a05",
   "metadata": {},
   "outputs": [
    {
     "name": "stdout",
     "output_type": "stream",
     "text": [
      "descending order of the list3 is  [6, 5, 4, 3, 2, 1]\n"
     ]
    }
   ],
   "source": [
    "print(\"descending order of the list3 is \",  list4)"
   ]
  },
  {
   "cell_type": "code",
   "execution_count": 98,
   "id": "b432f0ab",
   "metadata": {},
   "outputs": [],
   "source": [
    "list5=[\"a\",\"r\",\"b\"]  #we can also sort strings in alphabetical order\n",
    "list5.sort()"
   ]
  },
  {
   "cell_type": "code",
   "execution_count": 99,
   "id": "f5acfc6a",
   "metadata": {},
   "outputs": [
    {
     "data": {
      "text/plain": [
       "['a', 'b', 'r']"
      ]
     },
     "execution_count": 99,
     "metadata": {},
     "output_type": "execute_result"
    }
   ],
   "source": [
    "list5"
   ]
  },
  {
   "cell_type": "markdown",
   "id": "d859902f",
   "metadata": {},
   "source": [
    "##### sorting using functions"
   ]
  },
  {
   "cell_type": "code",
   "execution_count": 100,
   "id": "80a2db8a",
   "metadata": {},
   "outputs": [
    {
     "name": "stdout",
     "output_type": "stream",
     "text": [
      "['VW', 'BMW', 'Ford', 'Mitsubishi']\n"
     ]
    }
   ],
   "source": [
    "#To sort theelements using their length\n",
    "def myFunc(e):\n",
    "  return len(e)\n",
    "\n",
    "cars = ['Ford', 'Mitsubishi', 'BMW', 'VW']\n",
    "\n",
    "cars.sort(key=myFunc)\n",
    "\n",
    "print(cars)\n"
   ]
  },
  {
   "cell_type": "markdown",
   "id": "f6a67fdb",
   "metadata": {},
   "source": [
    "**REVERSE**\n",
    "\n",
    "reverse() is used to reverse the order of the list"
   ]
  },
  {
   "cell_type": "code",
   "execution_count": 102,
   "id": "b74c1de1",
   "metadata": {},
   "outputs": [],
   "source": [
    "list6=['desika',2,6]\n",
    "list6.reverse()"
   ]
  },
  {
   "cell_type": "code",
   "execution_count": 103,
   "id": "02ab7a95",
   "metadata": {},
   "outputs": [
    {
     "data": {
      "text/plain": [
       "[6, 2, 'desika']"
      ]
     },
     "execution_count": 103,
     "metadata": {},
     "output_type": "execute_result"
    }
   ],
   "source": [
    "list6"
   ]
  },
  {
   "cell_type": "markdown",
   "id": "c23b85ce",
   "metadata": {},
   "source": [
    "**COPY**\n",
    "\n",
    "*copy()* is used to copy the list\n",
    "\n",
    "It returns the shallow copy of the list"
   ]
  },
  {
   "cell_type": "code",
   "execution_count": 106,
   "id": "6a76d418",
   "metadata": {},
   "outputs": [],
   "source": [
    "list7=['a','b','c']\n",
    "s=list7.copy()   #to copy the list7 to the variable s"
   ]
  },
  {
   "cell_type": "code",
   "execution_count": 107,
   "id": "7393533d",
   "metadata": {},
   "outputs": [
    {
     "data": {
      "text/plain": [
       "['a', 'b', 'c']"
      ]
     },
     "execution_count": 107,
     "metadata": {},
     "output_type": "execute_result"
    }
   ],
   "source": [
    "s"
   ]
  },
  {
   "cell_type": "markdown",
   "id": "454136d6",
   "metadata": {},
   "source": [
    "**COUNT**\n",
    "  \n",
    "*count()* returns the no. of occurence of the specified element\n"
   ]
  },
  {
   "cell_type": "code",
   "execution_count": 110,
   "id": "73ada871",
   "metadata": {},
   "outputs": [
    {
     "data": {
      "text/plain": [
       "15"
      ]
     },
     "execution_count": 110,
     "metadata": {},
     "output_type": "execute_result"
    }
   ],
   "source": [
    "list8=[1,1,2,2,3,3,3,6,6,6,3,3,4,4,4,4,4,5,5,6,6,6,6,6,6,6,6,6,6,6,6,]\n",
    "list8.count(6)  #count the no. of occurence of the element 6"
   ]
  },
  {
   "cell_type": "markdown",
   "id": "40cb333e",
   "metadata": {},
   "source": [
    "**INDEX**\n",
    "\n",
    "*index()* returns the first index of the element\n"
   ]
  },
  {
   "cell_type": "code",
   "execution_count": 113,
   "id": "0fe0522d",
   "metadata": {},
   "outputs": [
    {
     "data": {
      "text/plain": [
       "2"
      ]
     },
     "execution_count": 113,
     "metadata": {},
     "output_type": "execute_result"
    }
   ],
   "source": [
    "list9=['a','c','f','d','e']\n",
    "\n",
    "list9.index('f')"
   ]
  },
  {
   "cell_type": "code",
   "execution_count": null,
   "id": "6a410376",
   "metadata": {},
   "outputs": [],
   "source": []
  }
 ],
 "metadata": {
  "kernelspec": {
   "display_name": "Python 3 (ipykernel)",
   "language": "python",
   "name": "python3"
  },
  "language_info": {
   "codemirror_mode": {
    "name": "ipython",
    "version": 3
   },
   "file_extension": ".py",
   "mimetype": "text/x-python",
   "name": "python",
   "nbconvert_exporter": "python",
   "pygments_lexer": "ipython3",
   "version": "3.9.12"
  }
 },
 "nbformat": 4,
 "nbformat_minor": 5
}
